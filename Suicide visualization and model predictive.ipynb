{
 "cells": [
  {
   "cell_type": "markdown",
   "id": "84cf740d",
   "metadata": {},
   "source": [
    "# Importing Libraries"
   ]
  },
  {
   "cell_type": "code",
   "execution_count": 1,
   "id": "b338a46e",
   "metadata": {},
   "outputs": [],
   "source": [
    "import numpy as np\n",
    "import pandas as pd\n",
    "import matplotlib.pyplot as plt\n",
    "%matplotlib inline\n",
    "import seaborn as sns\n",
    "import warnings\n",
    "warnings.filterwarnings('ignore')"
   ]
  },
  {
   "cell_type": "markdown",
   "id": "99e5b55a",
   "metadata": {},
   "source": [
    "# Loading Dataset"
   ]
  },
  {
   "cell_type": "code",
   "execution_count": 2,
   "id": "6170268d",
   "metadata": {},
   "outputs": [
    {
     "data": {
      "text/html": [
       "<div>\n",
       "<style scoped>\n",
       "    .dataframe tbody tr th:only-of-type {\n",
       "        vertical-align: middle;\n",
       "    }\n",
       "\n",
       "    .dataframe tbody tr th {\n",
       "        vertical-align: top;\n",
       "    }\n",
       "\n",
       "    .dataframe thead th {\n",
       "        text-align: right;\n",
       "    }\n",
       "</style>\n",
       "<table border=\"1\" class=\"dataframe\">\n",
       "  <thead>\n",
       "    <tr style=\"text-align: right;\">\n",
       "      <th></th>\n",
       "      <th>country</th>\n",
       "      <th>year</th>\n",
       "      <th>sex</th>\n",
       "      <th>age</th>\n",
       "      <th>suicides_no</th>\n",
       "      <th>population</th>\n",
       "    </tr>\n",
       "  </thead>\n",
       "  <tbody>\n",
       "    <tr>\n",
       "      <th>0</th>\n",
       "      <td>Albania</td>\n",
       "      <td>1985</td>\n",
       "      <td>female</td>\n",
       "      <td>15-24 years</td>\n",
       "      <td>NaN</td>\n",
       "      <td>277900.0</td>\n",
       "    </tr>\n",
       "    <tr>\n",
       "      <th>1</th>\n",
       "      <td>Albania</td>\n",
       "      <td>1985</td>\n",
       "      <td>female</td>\n",
       "      <td>25-34 years</td>\n",
       "      <td>NaN</td>\n",
       "      <td>246800.0</td>\n",
       "    </tr>\n",
       "    <tr>\n",
       "      <th>2</th>\n",
       "      <td>Albania</td>\n",
       "      <td>1985</td>\n",
       "      <td>female</td>\n",
       "      <td>35-54 years</td>\n",
       "      <td>NaN</td>\n",
       "      <td>267500.0</td>\n",
       "    </tr>\n",
       "    <tr>\n",
       "      <th>3</th>\n",
       "      <td>Albania</td>\n",
       "      <td>1985</td>\n",
       "      <td>female</td>\n",
       "      <td>5-14 years</td>\n",
       "      <td>NaN</td>\n",
       "      <td>298300.0</td>\n",
       "    </tr>\n",
       "    <tr>\n",
       "      <th>4</th>\n",
       "      <td>Albania</td>\n",
       "      <td>1985</td>\n",
       "      <td>female</td>\n",
       "      <td>55-74 years</td>\n",
       "      <td>NaN</td>\n",
       "      <td>138700.0</td>\n",
       "    </tr>\n",
       "  </tbody>\n",
       "</table>\n",
       "</div>"
      ],
      "text/plain": [
       "   country  year     sex          age  suicides_no  population\n",
       "0  Albania  1985  female  15-24 years          NaN    277900.0\n",
       "1  Albania  1985  female  25-34 years          NaN    246800.0\n",
       "2  Albania  1985  female  35-54 years          NaN    267500.0\n",
       "3  Albania  1985  female   5-14 years          NaN    298300.0\n",
       "4  Albania  1985  female  55-74 years          NaN    138700.0"
      ]
     },
     "execution_count": 2,
     "metadata": {},
     "output_type": "execute_result"
    }
   ],
   "source": [
    "data=pd.read_csv('C:\\\\Users\\\\USER\\\\Desktop\\\\suic\\\\who_suicide_statistics.csv')\n",
    "data.head(5)"
   ]
  },
  {
   "cell_type": "markdown",
   "id": "c85c7994",
   "metadata": {},
   "source": [
    "# Exploratory analysis"
   ]
  },
  {
   "cell_type": "code",
   "execution_count": 3,
   "id": "a2e5b1f7",
   "metadata": {},
   "outputs": [
    {
     "data": {
      "text/plain": [
       "country           0\n",
       "year              0\n",
       "sex               0\n",
       "age               0\n",
       "suicides_no    2256\n",
       "population     5460\n",
       "dtype: int64"
      ]
     },
     "execution_count": 3,
     "metadata": {},
     "output_type": "execute_result"
    }
   ],
   "source": [
    "#checking for null values\n",
    "data.isnull().sum()"
   ]
  },
  {
   "cell_type": "code",
   "execution_count": 4,
   "id": "6f81c6b7",
   "metadata": {},
   "outputs": [
    {
     "name": "stdout",
     "output_type": "stream",
     "text": [
      "country        43776\n",
      "year           43776\n",
      "sex            43776\n",
      "age            43776\n",
      "suicides_no    41520\n",
      "population     38316\n",
      "dtype: int64\n"
     ]
    }
   ],
   "source": [
    "print(data.count())"
   ]
  },
  {
   "cell_type": "code",
   "execution_count": 5,
   "id": "fa9e9805",
   "metadata": {},
   "outputs": [
    {
     "name": "stdout",
     "output_type": "stream",
     "text": [
      "country        0\n",
      "year           0\n",
      "sex            0\n",
      "age            0\n",
      "suicides_no    0\n",
      "population     0\n",
      "dtype: int64\n"
     ]
    }
   ],
   "source": [
    "#dropping null value\n",
    "data.dropna(inplace=True)\n",
    "print(data.isnull().sum())"
   ]
  },
  {
   "cell_type": "code",
   "execution_count": 6,
   "id": "cb50e0eb",
   "metadata": {},
   "outputs": [
    {
     "name": "stdout",
     "output_type": "stream",
     "text": [
      "    country  year     sex          age  suicides_no  population\n",
      "24  Albania  1987  female  15-24 years         14.0    289700.0\n",
      "25  Albania  1987  female  25-34 years          4.0    257200.0\n",
      "26  Albania  1987  female  35-54 years          6.0    278800.0\n",
      "27  Albania  1987  female   5-14 years          0.0    311000.0\n",
      "country        36060\n",
      "year           36060\n",
      "sex            36060\n",
      "age            36060\n",
      "suicides_no    36060\n",
      "population     36060\n",
      "dtype: int64\n"
     ]
    }
   ],
   "source": [
    "print(data.head(4))\n",
    "print(data.count())"
   ]
  },
  {
   "cell_type": "code",
   "execution_count": 7,
   "id": "4aa8e8be",
   "metadata": {},
   "outputs": [
    {
     "data": {
      "text/html": [
       "<div>\n",
       "<style scoped>\n",
       "    .dataframe tbody tr th:only-of-type {\n",
       "        vertical-align: middle;\n",
       "    }\n",
       "\n",
       "    .dataframe tbody tr th {\n",
       "        vertical-align: top;\n",
       "    }\n",
       "\n",
       "    .dataframe thead th {\n",
       "        text-align: right;\n",
       "    }\n",
       "</style>\n",
       "<table border=\"1\" class=\"dataframe\">\n",
       "  <thead>\n",
       "    <tr style=\"text-align: right;\">\n",
       "      <th></th>\n",
       "      <th>year</th>\n",
       "      <th>suicides_no</th>\n",
       "      <th>population</th>\n",
       "    </tr>\n",
       "  </thead>\n",
       "  <tbody>\n",
       "    <tr>\n",
       "      <th>count</th>\n",
       "      <td>36060.000000</td>\n",
       "      <td>36060.000000</td>\n",
       "      <td>3.606000e+04</td>\n",
       "    </tr>\n",
       "    <tr>\n",
       "      <th>mean</th>\n",
       "      <td>1998.935441</td>\n",
       "      <td>221.809956</td>\n",
       "      <td>1.699996e+06</td>\n",
       "    </tr>\n",
       "    <tr>\n",
       "      <th>std</th>\n",
       "      <td>10.163883</td>\n",
       "      <td>855.449442</td>\n",
       "      <td>3.697811e+06</td>\n",
       "    </tr>\n",
       "    <tr>\n",
       "      <th>min</th>\n",
       "      <td>1979.000000</td>\n",
       "      <td>0.000000</td>\n",
       "      <td>2.590000e+02</td>\n",
       "    </tr>\n",
       "    <tr>\n",
       "      <th>25%</th>\n",
       "      <td>1991.000000</td>\n",
       "      <td>2.000000</td>\n",
       "      <td>8.056600e+04</td>\n",
       "    </tr>\n",
       "    <tr>\n",
       "      <th>50%</th>\n",
       "      <td>2000.000000</td>\n",
       "      <td>21.000000</td>\n",
       "      <td>3.757650e+05</td>\n",
       "    </tr>\n",
       "    <tr>\n",
       "      <th>75%</th>\n",
       "      <td>2008.000000</td>\n",
       "      <td>116.000000</td>\n",
       "      <td>1.344900e+06</td>\n",
       "    </tr>\n",
       "    <tr>\n",
       "      <th>max</th>\n",
       "      <td>2016.000000</td>\n",
       "      <td>22338.000000</td>\n",
       "      <td>4.380521e+07</td>\n",
       "    </tr>\n",
       "  </tbody>\n",
       "</table>\n",
       "</div>"
      ],
      "text/plain": [
       "               year   suicides_no    population\n",
       "count  36060.000000  36060.000000  3.606000e+04\n",
       "mean    1998.935441    221.809956  1.699996e+06\n",
       "std       10.163883    855.449442  3.697811e+06\n",
       "min     1979.000000      0.000000  2.590000e+02\n",
       "25%     1991.000000      2.000000  8.056600e+04\n",
       "50%     2000.000000     21.000000  3.757650e+05\n",
       "75%     2008.000000    116.000000  1.344900e+06\n",
       "max     2016.000000  22338.000000  4.380521e+07"
      ]
     },
     "execution_count": 7,
     "metadata": {},
     "output_type": "execute_result"
    }
   ],
   "source": [
    "data.describe()"
   ]
  },
  {
   "cell_type": "code",
   "execution_count": 8,
   "id": "e9e57906",
   "metadata": {},
   "outputs": [
    {
     "name": "stdout",
     "output_type": "stream",
     "text": [
      "<class 'pandas.core.frame.DataFrame'>\n",
      "Int64Index: 36060 entries, 24 to 43763\n",
      "Data columns (total 6 columns):\n",
      " #   Column       Non-Null Count  Dtype  \n",
      "---  ------       --------------  -----  \n",
      " 0   country      36060 non-null  object \n",
      " 1   year         36060 non-null  int64  \n",
      " 2   sex          36060 non-null  object \n",
      " 3   age          36060 non-null  object \n",
      " 4   suicides_no  36060 non-null  float64\n",
      " 5   population   36060 non-null  float64\n",
      "dtypes: float64(2), int64(1), object(3)\n",
      "memory usage: 1.9+ MB\n"
     ]
    }
   ],
   "source": [
    "# checking the info of the data\n",
    "data.info()"
   ]
  },
  {
   "cell_type": "code",
   "execution_count": 9,
   "id": "3792cc15",
   "metadata": {},
   "outputs": [
    {
     "name": "stdout",
     "output_type": "stream",
     "text": [
      "['15-24 years' '25-34 years' '35-54 years' '5-14 years' '55-74 years'\n",
      " '75+ years']\n"
     ]
    }
   ],
   "source": [
    "#checking Age range\n",
    "print(data.age.unique())"
   ]
  },
  {
   "cell_type": "code",
   "execution_count": 11,
   "id": "4444fc3d",
   "metadata": {},
   "outputs": [
    {
     "name": "stdout",
     "output_type": "stream",
     "text": [
      "['Albania' 'Antigua and Barbuda' 'Argentina' 'Armenia' 'Aruba' 'Australia'\n",
      " 'Austria' 'Azerbaijan' 'Bahamas' 'Bahrain' 'Barbados' 'Belarus' 'Belgium'\n",
      " 'Belize' 'Bermuda' 'Bosnia and Herzegovina' 'Brazil' 'Brunei Darussalam'\n",
      " 'Bulgaria' 'Cabo Verde' 'Canada' 'Cayman Islands' 'Chile' 'Colombia'\n",
      " 'Costa Rica' 'Croatia' 'Cuba' 'Cyprus' 'Czech Republic' 'Denmark'\n",
      " 'Dominica' 'Ecuador' 'Egypt' 'El Salvador' 'Estonia' 'Fiji' 'Finland'\n",
      " 'France' 'French Guiana' 'Georgia' 'Germany' 'Greece' 'Grenada'\n",
      " 'Guadeloupe' 'Guatemala' 'Guyana' 'Hong Kong SAR' 'Hungary' 'Iceland'\n",
      " 'Iran (Islamic Rep of)' 'Ireland' 'Israel' 'Italy' 'Jamaica' 'Japan'\n",
      " 'Kazakhstan' 'Kiribati' 'Kuwait' 'Kyrgyzstan' 'Latvia' 'Lithuania'\n",
      " 'Luxembourg' 'Macau' 'Maldives' 'Malta' 'Martinique' 'Mauritius'\n",
      " 'Mayotte' 'Mexico' 'Mongolia' 'Montenegro' 'Netherlands' 'New Zealand'\n",
      " 'Nicaragua' 'Norway' 'Oman' 'Panama' 'Paraguay' 'Philippines' 'Poland'\n",
      " 'Portugal' 'Puerto Rico' 'Qatar' 'Republic of Korea'\n",
      " 'Republic of Moldova' 'Reunion' 'Rodrigues' 'Romania'\n",
      " 'Russian Federation' 'Saint Kitts and Nevis' 'Saint Lucia'\n",
      " 'Saint Vincent and Grenadines' 'San Marino' 'Sao Tome and Principe'\n",
      " 'Serbia' 'Seychelles' 'Singapore' 'Slovakia' 'Slovenia' 'South Africa'\n",
      " 'Spain' 'Sri Lanka' 'Suriname' 'Sweden' 'Switzerland' 'TFYR Macedonia'\n",
      " 'Thailand' 'Trinidad and Tobago' 'Turkey' 'Turkmenistan' 'Ukraine'\n",
      " 'United Arab Emirates' 'United Kingdom' 'United States of America'\n",
      " 'Uruguay' 'Uzbekistan' 'Venezuela (Bolivarian Republic of)'\n",
      " 'Virgin Islands (USA)']\n",
      "Total Countries:  118\n"
     ]
    }
   ],
   "source": [
    "#checking country names\n",
    "print(data['country'].unique())\n",
    "print(\"Total Countries: \",len(data['country'].unique()))"
   ]
  },
  {
   "cell_type": "code",
   "execution_count": 12,
   "id": "21023142",
   "metadata": {},
   "outputs": [
    {
     "data": {
      "text/html": [
       "<div>\n",
       "<style scoped>\n",
       "    .dataframe tbody tr th:only-of-type {\n",
       "        vertical-align: middle;\n",
       "    }\n",
       "\n",
       "    .dataframe tbody tr th {\n",
       "        vertical-align: top;\n",
       "    }\n",
       "\n",
       "    .dataframe thead th {\n",
       "        text-align: right;\n",
       "    }\n",
       "</style>\n",
       "<table border=\"1\" class=\"dataframe\">\n",
       "  <thead>\n",
       "    <tr style=\"text-align: right;\">\n",
       "      <th></th>\n",
       "      <th>suicides_no</th>\n",
       "      <th>population</th>\n",
       "    </tr>\n",
       "    <tr>\n",
       "      <th>year</th>\n",
       "      <th></th>\n",
       "      <th></th>\n",
       "    </tr>\n",
       "  </thead>\n",
       "  <tbody>\n",
       "    <tr>\n",
       "      <th>1979</th>\n",
       "      <td>92790.0</td>\n",
       "      <td>8.225891e+08</td>\n",
       "    </tr>\n",
       "    <tr>\n",
       "      <th>1980</th>\n",
       "      <td>153400.0</td>\n",
       "      <td>1.086858e+09</td>\n",
       "    </tr>\n",
       "    <tr>\n",
       "      <th>1981</th>\n",
       "      <td>177705.0</td>\n",
       "      <td>1.179065e+09</td>\n",
       "    </tr>\n",
       "    <tr>\n",
       "      <th>1982</th>\n",
       "      <td>182435.0</td>\n",
       "      <td>1.186361e+09</td>\n",
       "    </tr>\n",
       "    <tr>\n",
       "      <th>1983</th>\n",
       "      <td>122166.0</td>\n",
       "      <td>9.901033e+08</td>\n",
       "    </tr>\n",
       "    <tr>\n",
       "      <th>1984</th>\n",
       "      <td>124264.0</td>\n",
       "      <td>1.021228e+09</td>\n",
       "    </tr>\n",
       "    <tr>\n",
       "      <th>1985</th>\n",
       "      <td>197115.0</td>\n",
       "      <td>1.330094e+09</td>\n",
       "    </tr>\n",
       "    <tr>\n",
       "      <th>1986</th>\n",
       "      <td>188684.0</td>\n",
       "      <td>1.363476e+09</td>\n",
       "    </tr>\n",
       "    <tr>\n",
       "      <th>1987</th>\n",
       "      <td>185757.0</td>\n",
       "      <td>1.425995e+09</td>\n",
       "    </tr>\n",
       "    <tr>\n",
       "      <th>1988</th>\n",
       "      <td>180726.0</td>\n",
       "      <td>1.343231e+09</td>\n",
       "    </tr>\n",
       "    <tr>\n",
       "      <th>1989</th>\n",
       "      <td>185356.0</td>\n",
       "      <td>1.381879e+09</td>\n",
       "    </tr>\n",
       "    <tr>\n",
       "      <th>1990</th>\n",
       "      <td>204043.0</td>\n",
       "      <td>1.520325e+09</td>\n",
       "    </tr>\n",
       "    <tr>\n",
       "      <th>1991</th>\n",
       "      <td>204236.0</td>\n",
       "      <td>1.518960e+09</td>\n",
       "    </tr>\n",
       "    <tr>\n",
       "      <th>1992</th>\n",
       "      <td>218446.0</td>\n",
       "      <td>1.612096e+09</td>\n",
       "    </tr>\n",
       "    <tr>\n",
       "      <th>1993</th>\n",
       "      <td>228951.0</td>\n",
       "      <td>1.573515e+09</td>\n",
       "    </tr>\n",
       "    <tr>\n",
       "      <th>1994</th>\n",
       "      <td>239869.0</td>\n",
       "      <td>1.592434e+09</td>\n",
       "    </tr>\n",
       "    <tr>\n",
       "      <th>1995</th>\n",
       "      <td>245203.0</td>\n",
       "      <td>1.603185e+09</td>\n",
       "    </tr>\n",
       "    <tr>\n",
       "      <th>1996</th>\n",
       "      <td>249451.0</td>\n",
       "      <td>1.694326e+09</td>\n",
       "    </tr>\n",
       "    <tr>\n",
       "      <th>1997</th>\n",
       "      <td>243263.0</td>\n",
       "      <td>1.735086e+09</td>\n",
       "    </tr>\n",
       "    <tr>\n",
       "      <th>1998</th>\n",
       "      <td>252324.0</td>\n",
       "      <td>1.757836e+09</td>\n",
       "    </tr>\n",
       "    <tr>\n",
       "      <th>1999</th>\n",
       "      <td>258989.0</td>\n",
       "      <td>1.809551e+09</td>\n",
       "    </tr>\n",
       "    <tr>\n",
       "      <th>2000</th>\n",
       "      <td>258808.0</td>\n",
       "      <td>1.895363e+09</td>\n",
       "    </tr>\n",
       "    <tr>\n",
       "      <th>2001</th>\n",
       "      <td>254036.0</td>\n",
       "      <td>1.854263e+09</td>\n",
       "    </tr>\n",
       "    <tr>\n",
       "      <th>2002</th>\n",
       "      <td>259376.0</td>\n",
       "      <td>1.922587e+09</td>\n",
       "    </tr>\n",
       "    <tr>\n",
       "      <th>2003</th>\n",
       "      <td>259336.0</td>\n",
       "      <td>1.940607e+09</td>\n",
       "    </tr>\n",
       "    <tr>\n",
       "      <th>2004</th>\n",
       "      <td>244196.0</td>\n",
       "      <td>1.844049e+09</td>\n",
       "    </tr>\n",
       "    <tr>\n",
       "      <th>2005</th>\n",
       "      <td>237556.0</td>\n",
       "      <td>1.835405e+09</td>\n",
       "    </tr>\n",
       "    <tr>\n",
       "      <th>2006</th>\n",
       "      <td>236400.0</td>\n",
       "      <td>1.943062e+09</td>\n",
       "    </tr>\n",
       "    <tr>\n",
       "      <th>2007</th>\n",
       "      <td>236179.0</td>\n",
       "      <td>1.963480e+09</td>\n",
       "    </tr>\n",
       "    <tr>\n",
       "      <th>2008</th>\n",
       "      <td>238239.0</td>\n",
       "      <td>1.967225e+09</td>\n",
       "    </tr>\n",
       "    <tr>\n",
       "      <th>2009</th>\n",
       "      <td>246323.0</td>\n",
       "      <td>2.089017e+09</td>\n",
       "    </tr>\n",
       "    <tr>\n",
       "      <th>2010</th>\n",
       "      <td>241523.0</td>\n",
       "      <td>2.111980e+09</td>\n",
       "    </tr>\n",
       "    <tr>\n",
       "      <th>2011</th>\n",
       "      <td>239048.0</td>\n",
       "      <td>2.110164e+09</td>\n",
       "    </tr>\n",
       "    <tr>\n",
       "      <th>2012</th>\n",
       "      <td>232834.0</td>\n",
       "      <td>2.031251e+09</td>\n",
       "    </tr>\n",
       "    <tr>\n",
       "      <th>2013</th>\n",
       "      <td>228340.0</td>\n",
       "      <td>2.081241e+09</td>\n",
       "    </tr>\n",
       "    <tr>\n",
       "      <th>2014</th>\n",
       "      <td>227235.0</td>\n",
       "      <td>2.073398e+09</td>\n",
       "    </tr>\n",
       "    <tr>\n",
       "      <th>2015</th>\n",
       "      <td>207627.0</td>\n",
       "      <td>1.936995e+09</td>\n",
       "    </tr>\n",
       "    <tr>\n",
       "      <th>2016</th>\n",
       "      <td>16238.0</td>\n",
       "      <td>1.535649e+08</td>\n",
       "    </tr>\n",
       "  </tbody>\n",
       "</table>\n",
       "</div>"
      ],
      "text/plain": [
       "      suicides_no    population\n",
       "year                           \n",
       "1979      92790.0  8.225891e+08\n",
       "1980     153400.0  1.086858e+09\n",
       "1981     177705.0  1.179065e+09\n",
       "1982     182435.0  1.186361e+09\n",
       "1983     122166.0  9.901033e+08\n",
       "1984     124264.0  1.021228e+09\n",
       "1985     197115.0  1.330094e+09\n",
       "1986     188684.0  1.363476e+09\n",
       "1987     185757.0  1.425995e+09\n",
       "1988     180726.0  1.343231e+09\n",
       "1989     185356.0  1.381879e+09\n",
       "1990     204043.0  1.520325e+09\n",
       "1991     204236.0  1.518960e+09\n",
       "1992     218446.0  1.612096e+09\n",
       "1993     228951.0  1.573515e+09\n",
       "1994     239869.0  1.592434e+09\n",
       "1995     245203.0  1.603185e+09\n",
       "1996     249451.0  1.694326e+09\n",
       "1997     243263.0  1.735086e+09\n",
       "1998     252324.0  1.757836e+09\n",
       "1999     258989.0  1.809551e+09\n",
       "2000     258808.0  1.895363e+09\n",
       "2001     254036.0  1.854263e+09\n",
       "2002     259376.0  1.922587e+09\n",
       "2003     259336.0  1.940607e+09\n",
       "2004     244196.0  1.844049e+09\n",
       "2005     237556.0  1.835405e+09\n",
       "2006     236400.0  1.943062e+09\n",
       "2007     236179.0  1.963480e+09\n",
       "2008     238239.0  1.967225e+09\n",
       "2009     246323.0  2.089017e+09\n",
       "2010     241523.0  2.111980e+09\n",
       "2011     239048.0  2.110164e+09\n",
       "2012     232834.0  2.031251e+09\n",
       "2013     228340.0  2.081241e+09\n",
       "2014     227235.0  2.073398e+09\n",
       "2015     207627.0  1.936995e+09\n",
       "2016      16238.0  1.535649e+08"
      ]
     },
     "execution_count": 12,
     "metadata": {},
     "output_type": "execute_result"
    }
   ],
   "source": [
    "data.groupby(['year']).sum()"
   ]
  },
  {
   "cell_type": "markdown",
   "id": "8a7addd0",
   "metadata": {},
   "source": [
    "# Data vizualisation"
   ]
  },
  {
   "cell_type": "code",
   "execution_count": 13,
   "id": "5b3f2d82",
   "metadata": {},
   "outputs": [
    {
     "data": {
      "text/plain": [
       "<AxesSubplot:title={'center':'Top 5 countries with highest Suicide Rate'}, xlabel='country'>"
      ]
     },
     "execution_count": 13,
     "metadata": {},
     "output_type": "execute_result"
    },
    {
     "data": {
      "image/png": "[encoded data removed]",
      "text/plain": [
       "<Figure size 1080x360 with 1 Axes>"
      ]
     },
     "metadata": {
      "needs_background": "light"
     },
     "output_type": "display_data"
    }
   ],
   "source": [
    "# checkng the highest suicide rate\n",
    "c_suicides=data[['country','suicides_no']].groupby(['country']).sum()\n",
    "c_suicides = c_suicides.reset_index().sort_values(by='suicides_no', ascending=False)\n",
    "top_5 = c_suicides[:5]\n",
    "top_5.plot(kind='bar',figsize=(15,5),title=\"Top 5 countries with highest Suicide Rate\",x='country',y='suicides_no')"
   ]
  },
  {
   "cell_type": "code",
   "execution_count": 14,
   "id": "72ee34a0",
   "metadata": {},
   "outputs": [
    {
     "data": {
      "text/plain": [
       "<AxesSubplot:xlabel='country'>"
      ]
     },
     "execution_count": 14,
     "metadata": {},
     "output_type": "execute_result"
    },
    {
     "data": {
      "image/png": "[encoded data removed]",
      "text/plain": [
       "<Figure size 3600x720 with 1 Axes>"
      ]
     },
     "metadata": {
      "needs_background": "light"
     },
     "output_type": "display_data"
    }
   ],
   "source": [
    "data[['country','suicides_no']].groupby(['country']).sum().plot(kind='bar',figsize=(50,10),label=\"Total Suicies Per country in following Year\")"
   ]
  },
  {
   "cell_type": "code",
   "execution_count": 15,
   "id": "a90ced1e",
   "metadata": {},
   "outputs": [
    {
     "name": "stdout",
     "output_type": "stream",
     "text": [
      "sex\n",
      "female    1894294.0\n",
      "male      6104173.0\n",
      "Name: suicides_no, dtype: float64\n"
     ]
    },
    {
     "data": {
      "text/plain": [
       "<AxesSubplot:title={'center':'Male/Female'}, xlabel='sex'>"
      ]
     },
     "execution_count": 15,
     "metadata": {},
     "output_type": "execute_result"
    },
    {
     "data": {
      "image/png": "[encoded data removed]",
      "text/plain": [
       "<Figure size 720x360 with 1 Axes>"
      ]
     },
     "metadata": {
      "needs_background": "light"
     },
     "output_type": "display_data"
    }
   ],
   "source": [
    "#male vs female suicide comparison\n",
    "print(data.groupby('sex')['suicides_no'].sum())\n",
    "data.groupby('sex')['suicides_no'].sum().plot.bar(figsize=(10,5),title = \"Male/Female\")"
   ]
  },
  {
   "cell_type": "code",
   "execution_count": 16,
   "id": "06f6cbd8",
   "metadata": {},
   "outputs": [
    {
     "name": "stdout",
     "output_type": "stream",
     "text": [
      "age\n",
      "15-24 years     975700.0\n",
      "25-34 years    1360780.0\n",
      "35-54 years    2887740.0\n",
      "5-14 years       62320.0\n",
      "55-74 years    1955150.0\n",
      "75+ years       756777.0\n",
      "Name: suicides_no, dtype: float64\n"
     ]
    },
    {
     "data": {
      "text/plain": [
       "<AxesSubplot:title={'center':'Agewise comparison'}, xlabel='age'>"
      ]
     },
     "execution_count": 16,
     "metadata": {},
     "output_type": "execute_result"
    },
    {
     "data": {
      "image/png": "[encoded data removed]",
      "text/plain": [
       "<Figure size 1080x360 with 1 Axes>"
      ]
     },
     "metadata": {
      "needs_background": "light"
     },
     "output_type": "display_data"
    }
   ],
   "source": [
    "#Age wise Comparison\n",
    "print(data.groupby('age')['suicides_no'].sum())\n",
    "data.groupby('age')['suicides_no'].sum().sort_index().plot.bar(figsize=(15,5),title = \"Agewise comparison\")\n"
   ]
  },
  {
   "cell_type": "code",
   "execution_count": 17,
   "id": "42893f48",
   "metadata": {},
   "outputs": [
    {
     "data": {
      "text/plain": [
       "<AxesSubplot:title={'center':'Suicide Rate'}, xlabel='year'>"
      ]
     },
     "execution_count": 17,
     "metadata": {},
     "output_type": "execute_result"
    },
    {
     "data": {
      "image/png": "[encoded data removed]",
      "text/plain": [
       "<Figure size 1080x504 with 1 Axes>"
      ]
     },
     "metadata": {
      "needs_background": "light"
     },
     "output_type": "display_data"
    }
   ],
   "source": [
    "#Checking total number of suicides per year\n",
    "data[['year','suicides_no']].groupby(['year']).sum().plot(kind='bar',figsize=(15,7),title=\"Suicide Rate\")"
   ]
  },
  {
   "cell_type": "markdown",
   "id": "e284290f",
   "metadata": {},
   "source": [
    "# Predicting and checking the accuracy score"
   ]
  },
  {
   "cell_type": "code",
   "execution_count": 21,
   "id": "41f2dbc8",
   "metadata": {},
   "outputs": [],
   "source": [
    "from sklearn.model_selection import train_test_split\n",
    "from sklearn.metrics import accuracy_score\n",
    "from sklearn import metrics\n",
    "from sklearn import utils\n",
    "from sklearn import preprocessing\n",
    "import numpy as np"
   ]
  },
  {
   "cell_type": "code",
   "execution_count": 34,
   "id": "348a0d29",
   "metadata": {},
   "outputs": [],
   "source": [
    "#Preprocessing, Converting AGE Groups into integer values and Gender ~ Female=0,Male=1 for model testing and predictions\n",
    "mydata=data\n",
    "mydata=mydata.drop(['country'],axis=1)#removed country column from 'mydata'\n",
    "#replacing age groups with integer values\n",
    "mydata['age']=mydata['age'].replace('5-14 years',0)\n",
    "mydata['age']=mydata['age'].replace('15-24 years',1)\n",
    "mydata['age']=mydata['age'].replace('25-34 years',2)\n",
    "mydata['age']=mydata['age'].replace('35-54 years',3)\n",
    "mydata['age']=mydata['age'].replace('55-74 years',4)\n",
    "mydata['age']=mydata['age'].replace('75+ years',5)\n",
    "mydata['sex']=mydata['sex'].replace('female',0)\n",
    "mydata['sex']=mydata['sex'].replace('male',1)\n",
    "#adding two more columns for model training and testing\n",
    "\n",
    "mydata['suicides/100k_population']=(mydata.suicides_no/mydata.population)/100000\n",
    "mydata['fatality_rate']=np.where(mydata['suicides/100k_population']>mydata['suicides/100k_population'].mean(),0,1)\n",
    "#Dividing dataset into training and testing sets\n",
    "X = np.array(mydata.drop(['fatality_rate', 'suicides/100k_population'], 1))\n",
    "y=np.array(mydata.fatality_rate)\n",
    "X_train,X_test,y_train,y_test=train_test_split(X,y,test_size=0.2,random_state=3)"
   ]
  },
  {
   "cell_type": "code",
   "execution_count": 35,
   "id": "31c76d96",
   "metadata": {},
   "outputs": [],
   "source": [
    "#Encoding labels for continous and multi class output\n",
    "label_enc=preprocessing.LabelEncoder()\n",
    "trs=label_enc.fit_transform(y_train)"
   ]
  },
  {
   "cell_type": "code",
   "execution_count": 36,
   "id": "374ef0fb",
   "metadata": {},
   "outputs": [
    {
     "name": "stdout",
     "output_type": "stream",
     "text": [
      "(28848, 5)\n",
      "(7212, 5)\n"
     ]
    }
   ],
   "source": [
    "print(X_train.shape)\n",
    "print(X_test.shape)"
   ]
  },
  {
   "cell_type": "code",
   "execution_count": 37,
   "id": "883c698b",
   "metadata": {},
   "outputs": [],
   "source": [
    "from sklearn.linear_model import LogisticRegression\n",
    "from sklearn.tree import DecisionTreeClassifier\n",
    "from sklearn.ensemble import RandomForestClassifier\n",
    "from sklearn.metrics import classification_report"
   ]
  },
  {
   "cell_type": "code",
   "execution_count": 38,
   "id": "73309b49",
   "metadata": {},
   "outputs": [
    {
     "name": "stdout",
     "output_type": "stream",
     "text": [
      "Logistic Regression : 0.999\n"
     ]
    }
   ],
   "source": [
    "model=LogisticRegression()\n",
    "model.fit(X_train,y_train)\n",
    "print('Logistic Regression : {:.3f}'.format(accuracy_score(y_test,model.predict(X_test))))\n"
   ]
  },
  {
   "cell_type": "code",
   "execution_count": 39,
   "id": "bd96383d",
   "metadata": {},
   "outputs": [
    {
     "name": "stdout",
     "output_type": "stream",
     "text": [
      "Decision Tree  0.9905712701053799\n"
     ]
    }
   ],
   "source": [
    "from sklearn.tree import DecisionTreeClassifier\n",
    "model=DecisionTreeClassifier()\n",
    "model.fit(X_train,trs)\n",
    "model.predict(X_test)\n",
    "\n",
    "print('Decision Tree ',accuracy_score(y_test,model.predict(X_test)))"
   ]
  },
  {
   "cell_type": "code",
   "execution_count": 40,
   "id": "ae5a8be6",
   "metadata": {},
   "outputs": [
    {
     "name": "stdout",
     "output_type": "stream",
     "text": [
      "Random Forest accuracy is:  0.9909872434830838\n"
     ]
    }
   ],
   "source": [
    "model=RandomForestClassifier(n_estimators=100,random_state=42)\n",
    "model.fit(X_train,trs)\n",
    "model.predict(X_test)\n",
    "print(\"Random Forest accuracy is: \",accuracy_score(y_test,model.predict(X_test)))"
   ]
  },
  {
   "cell_type": "code",
   "execution_count": 42,
   "id": "71bf1061",
   "metadata": {},
   "outputs": [
    {
     "name": "stdout",
     "output_type": "stream",
     "text": [
      "              precision    recall  f1-score   support\n",
      "\n",
      "           0       0.98      0.99      0.99      2202\n",
      "           1       0.99      0.99      0.99      5010\n",
      "\n",
      "    accuracy                           0.99      7212\n",
      "   macro avg       0.99      0.99      0.99      7212\n",
      "weighted avg       0.99      0.99      0.99      7212\n",
      "\n"
     ]
    }
   ],
   "source": [
    "print(classification_report(model.predict(X_test),y_test))"
   ]
  },
  {
   "cell_type": "markdown",
   "id": "81580129",
   "metadata": {},
   "source": [
    "# Conclusion\n",
    "1.Russia has the highest number of suicide cases\n",
    "2.2016 has the lowest number of the cases \n",
    "3.35-54 years have the highest rate of suicide cases\n",
    "4.male has high rate of suicide cases compared to female"
   ]
  },
  {
   "cell_type": "code",
   "execution_count": null,
   "id": "3dd480c5",
   "metadata": {},
   "outputs": [],
   "source": []
  }
 ],
 "metadata": {
  "kernelspec": {
   "display_name": "Python 3 (ipykernel)",
   "language": "python",
   "name": "python3"
  },
  "language_info": {
   "codemirror_mode": {
    "name": "ipython",
    "version": 3
   },
   "file_extension": ".py",
   "mimetype": "text/x-python",
   "name": "python",
   "nbconvert_exporter": "python",
   "pygments_lexer": "ipython3",
   "version": "3.9.12"
  }
 },
 "nbformat": 4,
 "nbformat_minor": 5
}
